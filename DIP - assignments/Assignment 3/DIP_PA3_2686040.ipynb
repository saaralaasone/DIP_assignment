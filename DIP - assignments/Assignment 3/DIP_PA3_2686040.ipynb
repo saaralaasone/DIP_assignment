{
 "cells": [
  {
   "cell_type": "code",
   "execution_count": null,
   "metadata": {},
   "outputs": [],
   "source": [
    "from __future__ import print_function, division   # Python 2/3 compatibility\n",
    "from skimage import io                            # utilities to read and write images in various formats\n",
    "import numpy as np  # array manipulation package\n",
    "import matplotlib.pylab as plt                    # plotting package\n",
    "%matplotlib inline\n",
    "plt.rcParams['figure.figsize'] = (7,15)         # set default figure size\n",
    "plt.rcParams['image.cmap'] = 'gray'               # set default colormap to gray"
   ]
  },
  {
   "cell_type": "markdown",
   "metadata": {},
   "source": [
    "# Digital Image Processing - Programming Assignment \n",
    "\n",
    "The following progamming assignment involves image filtering in the frequency domain. The deadline for returning your work is **14 April 2022 at 23:59. \n",
    "Please, follow carefully the submission instructions given in the end of this notebook.** You are encouraged to seek information in other places than the course book and lecture material but remember **list all your sources under references**.\n",
    "\n",
    "If you experience problems that you cannot solve using the course material or the Python documentation, or have any questions regarding to the programming assignments, please do not hesitate to contact the course assistant by e-mail at the address dip@unioulu.oulu.fi."
   ]
  },
  {
   "cell_type": "markdown",
   "metadata": {},
   "source": [
    "**Please, fill in your personal details below.**\n",
    "\n",
    "# Personal details:\n",
    "\n",
    "* **Name(s) and student ID(s): Saara Laasonen, 2686040** \n",
    "* **Contact information: saara.laasonen@student.oulu.fi** "
   ]
  },
  {
   "cell_type": "markdown",
   "metadata": {},
   "source": [
    "# 4. Image transforms : lowpass and highpass filtering in frequency domain\n",
    "\n",
    "In the following, you will first perform ideal lowpass and highpass filtering on the test image, and later, we will also consider the Gaussian lowpass and highpass filtering. First, read the part concerning image enhancement in frequency domain in the lecture notes or in the course book. Specifically, you should look at the **Chapter-4** (available as a PDF file) in the lecture notes in Moodle.\n",
    "\n",
    "Now, perform the following operations in the reserved code cells and answer to the questions written in bold into the reserved spaces.\n"
   ]
  },
  {
   "cell_type": "markdown",
   "metadata": {},
   "source": [
    "**4.1. Read and display the test image `hplptest.jpg`.**"
   ]
  },
  {
   "cell_type": "code",
   "execution_count": null,
   "metadata": {},
   "outputs": [],
   "source": [
    "# read test image\n",
    "test = io.imread('hplptest.jpg')\n",
    "\n",
    "# display test image\n",
    "plt.imshow(test)\n",
    "plt.show()"
   ]
  },
  {
   "cell_type": "markdown",
   "metadata": {},
   "source": [
    "**4.2. Compute the Fourier transform (FT) of the test image and take a look at what the magnitude of the FT looks like.**\n",
    "\n",
    "Hint: When plotting the FTs, use logarithmic graylevel transformation to make the result more illustrative for human visual system: \n",
    "\n",
    "`>>> np.log(np.abs(image_fft)+1)`"
   ]
  },
  {
   "cell_type": "code",
   "execution_count": null,
   "metadata": {},
   "outputs": [],
   "source": [
    "from scipy import fftpack\n",
    "\n",
    "# compute the FT of the test image using 'fftpack.fft2'\n",
    "fttest = fftpack.fft2(test)\n",
    "\n",
    "# translate the origin of the FT (low frequencies) to the center using 'ftpack.fftshift'\n",
    "centered = fftpack.fftshift(fttest)\n",
    "\n",
    "# display the magnitude of the uncentered and centered FT using 'imshow'.\n",
    "fig, ax = plt.subplots(1, 2)\n",
    "ax[0].imshow(np.log(np.abs(fttest)+1))\n",
    "ax[0].set_title('uncentered')\n",
    "ax[1].imshow(np.log(np.abs(centered)+1))\n",
    "ax[1].set_title('centered')\n",
    "fig.tight_layout()\n"
   ]
  },
  {
   "cell_type": "markdown",
   "metadata": {},
   "source": [
    "**The code for constructing an ideal lowpass filter is given below:**"
   ]
  },
  {
   "cell_type": "code",
   "execution_count": null,
   "metadata": {},
   "outputs": [],
   "source": [
    "# make two frequency matrices, 'f1' and 'f2', as help variables (frequencies from -1 to 1)\n",
    "n = (500,500)\n",
    "f1 = ( np.arange(0,n[0])-np.floor(n[0]/2) ) * (2./(n[0]))\n",
    "f2 = ( np.arange(0,n[1])-np.floor(n[1]/2) ) * (2./(n[1]))\n",
    "f1, f2 = np.meshgrid(f1, f2)\n",
    "\n",
    "# make a matrix with absolute values of frequency (“sampled” frequency domain)\n",
    "D = np.sqrt(f1**2 + f2**2)\n",
    "\n",
    "# set cut-off frequency D0 to 0.2\n",
    "D0 = 0.2;\n",
    "\n",
    "# filter matrix is initialized to ones \n",
    "Hlp = np.ones(n)\n",
    "\n",
    "# set frequencies in filter mask Hlp greater than the cut-off frequency D0 to zero, other elements remain unaltered\n",
    "Hlp[D>D0] = 0.0"
   ]
  },
  {
   "cell_type": "markdown",
   "metadata": {},
   "source": [
    "**4.3. Modify the lowpass filter code and construct ideal highpass filter `Hhp` with the same cut-off frequency `D0=0.2` and display both ideal lowpass and highpass filter masks in the same figure.**"
   ]
  },
  {
   "cell_type": "code",
   "execution_count": null,
   "metadata": {
    "scrolled": true
   },
   "outputs": [],
   "source": [
    "# create ideal highpass filter mask Hhp\n",
    "Hhp = np.zeros(n)\n",
    "Hhp[D>D0] = 1.0\n",
    "# display the filters\n",
    "fig, ax = plt.subplots(1, 2)\n",
    "ax[0].imshow(Hlp)\n",
    "ax[0].set_title('Hlp')\n",
    "ax[1].imshow(Hhp)\n",
    "ax[1].set_title('Hhp')\n",
    "fig.tight_layout()"
   ]
  },
  {
   "cell_type": "markdown",
   "metadata": {},
   "source": [
    "**4.4. Perform ideal lowpass and highpass filtering in the frequency domain by multiplying the centralized FT of the original image with the `Hlp` and `Hhp` filter masks (element-per-element matrix multiplication) and display the two resulting FTs in the same figure.**"
   ]
  },
  {
   "cell_type": "code",
   "execution_count": null,
   "metadata": {},
   "outputs": [],
   "source": [
    "# apply ideal lowpass and highpass filtering to the test image, i.e. multiply element-wise the fft of the image with the filter masks\n",
    "hlpfilt = np.multiply(centered,Hlp)\n",
    "hhpfilt = np.multiply(centered,Hhp)\n",
    "# display the magnitude of the resulting FTs\n",
    "fig, ax = plt.subplots(1, 2)\n",
    "ax[0].imshow(hlpfilt.real)\n",
    "ax[0].set_title('Hlp filtered')\n",
    "ax[1].imshow(hhpfilt.real)\n",
    "ax[1].set_title('Hhp filtered')\n",
    "fig.tight_layout()"
   ]
  },
  {
   "cell_type": "markdown",
   "metadata": {},
   "source": [
    "**4.5. Reconstruct the filtered images with `fftpack.ifft2()` and `fftpack.ifftshift()` in reverse order and display the two filtered images using `imshow()` in the same figure.** \n",
    "\n",
    "Hint: Due to round-off errors, you have to take the real part of the result of inverse FT before displaying it with `imshow()`. Please note also that the resulting images values beyond the original `uint8` image `[0,255]`, so you need to clip these values using `np.clip()`."
   ]
  },
  {
   "cell_type": "code",
   "execution_count": null,
   "metadata": {},
   "outputs": [],
   "source": [
    "# reconstruct the filtered images\n",
    "Hlp_Filt = fftpack.ifft2(fftpack.ifftshift(hlpfilt))\n",
    "Hhp_Filt = fftpack.ifft2(fftpack.ifftshift(hhpfilt))\n",
    "# take the 'real' part of the resulting images due to possible round-off errors\n",
    "Hlp_Filter = np.real(Hlp_Filt)\n",
    "Hhp_Filter = np.real(Hhp_Filt)\n",
    "# clip values beyond the uint8 range [0,255] \n",
    "Hlp_uint = np.clip(Hlp_Filter, a_min=0, a_max = 255)\n",
    "Hhp_uint = np.clip(Hhp_Filter, a_min=0, a_max = 255)\n",
    "# display the original image and its lowpass and highpass filtered images in the same figure\n",
    "fig, ax = plt.subplots(1, 3)\n",
    "ax[0].imshow(test)\n",
    "ax[0].set_title('original')\n",
    "ax[1].imshow(Hlp_uint)\n",
    "ax[1].set_title('Hlp filtered')\n",
    "ax[2].imshow(Hhp_uint)\n",
    "ax[2].set_title('Hhp filtered')\n",
    "fig.tight_layout()"
   ]
  },
  {
   "cell_type": "markdown",
   "metadata": {},
   "source": [
    "When performing ideal lowpass and highpass filtering, unwanted artefacts appear to the filtered image. **What is this phenomenon called and why does it occur?**\n",
    "\n",
    "`This phenomenon is called ringing. Ringing occurs because the image gets distorted or image loses high frequency information about the image.`"
   ]
  },
  {
   "cell_type": "markdown",
   "metadata": {},
   "source": [
    "**4.6. Now, construct Gaussian lowpass and highpass filters with cut-off frequency `D0=0.2` and display them in the same figure.**\n",
    "\n",
    "Hint: All you need to do is to modify the filter matrix `Hlp` line in the example code snippet accordingly to form `Hlpg` and `Hhpg` (see, formula 4.3-7 in the course book or the lecture notes, specifically, the **chapter04.pdf**)."
   ]
  },
  {
   "cell_type": "code",
   "execution_count": null,
   "metadata": {},
   "outputs": [],
   "source": [
    "GausLP = np.exp(-D**2/2/D0**2)\n",
    "GausHP = 1-GausLP\n",
    "# display the filter masks\n",
    "fig, ax = plt.subplots(1, 2)\n",
    "ax[0].imshow(GausLP)\n",
    "ax[0].set_title('Gaussian lowpass')\n",
    "ax[1].imshow(GausHP)\n",
    "ax[1].set_title('Gaussian highpass')\n",
    "fig.tight_layout()"
   ]
  },
  {
   "cell_type": "markdown",
   "metadata": {},
   "source": [
    "**4.7. Perform Gaussian lowpass and highpass filtering to the original test image and display the magnitude of the resulting FTs in the same figure.**"
   ]
  },
  {
   "cell_type": "code",
   "execution_count": null,
   "metadata": {},
   "outputs": [],
   "source": [
    "# apply gaussian lowpass and highpass filtering to the test image\n",
    "GLP = np.multiply(centered, GausLP)\n",
    "GHP = np.multiply(centered, GausHP)\n",
    "# display the magnitude of the resulting FTs\n",
    "fig, ax = plt.subplots(1, 2)\n",
    "ax[0].imshow(GLP.real)\n",
    "ax[0].set_title('Gaussian lowpass')\n",
    "ax[1].imshow(GHP.real)\n",
    "ax[1].set_title('Gaussian highpass')\n",
    "fig.tight_layout()"
   ]
  },
  {
   "cell_type": "markdown",
   "metadata": {},
   "source": [
    "**4.8. Finally, reconstruct the filtered images like in step 4.5. and display the original image and the two Gaussian filtered images in the same figure.**"
   ]
  },
  {
   "cell_type": "code",
   "execution_count": null,
   "metadata": {},
   "outputs": [],
   "source": [
    "# reconstruct the filtered images \n",
    "GLPF = (fftpack.ifft2(fftpack.ifftshift(GLP))).real\n",
    "GHPF = (fftpack.ifft2(fftpack.ifftshift(GHP))).real\n",
    "# display the three images in the same figure\n",
    "fig, ax = plt.subplots(1, 3)\n",
    "ax[0].imshow(test)\n",
    "ax[0].set_title('original')\n",
    "ax[1].imshow(GLPF)\n",
    "ax[1].set_title('Gaussian lowpass')\n",
    "ax[2].imshow(GHPF)\n",
    "ax[2].set_title('Gaussian highpass')\n",
    "fig.tight_layout()"
   ]
  },
  {
   "cell_type": "markdown",
   "metadata": {
    "collapsed": true
   },
   "source": [
    "**Do the unwanted artefacts appear in the Gaussian lowpass filtered image, why or why not?**\n",
    "\n",
    "`The ringing does not appear in the Gaussian lowpass filtered image because the Gaussian filter is \"non-negative and non-oscillatory\".`"
   ]
  },
  {
   "cell_type": "markdown",
   "metadata": {
    "collapsed": true
   },
   "source": [
    "**What kind of effect does Gaussian (and ideal) lowpass filtering have on images in general? Why? What about highpass filtering? Why?**\n",
    "\n",
    "`Gaussian lowpass filtering blurs the image, as does the ideal lowpass filter, and filters point out the smooth regions of the images. This happens because all of the values are positive and they all sum up to 1. Highpass filters points out the edges. Highpass filtering has positive and negative values and they all sump up to 0.`"
   ]
  },
  {
   "cell_type": "markdown",
   "metadata": {},
   "source": [
    "# Aftermath\n",
    "Finally, fill your answers to the following questions:"
   ]
  },
  {
   "cell_type": "markdown",
   "metadata": {},
   "source": [
    "**How much time did you need to complete this exercise?**\n",
    "\n",
    "`This exercise took me 2h 45 minutes.`"
   ]
  },
  {
   "cell_type": "markdown",
   "metadata": {},
   "source": [
    "**Did you experience any problems with the exercise? Was there enough help available? Should this notebook be more (or less) detailed?**\n",
    "\n",
    "`I had lot of problems with this exercise, almost on every task. I think this notebook should be more detailed as I could not figure out what to do and I could not find help from the internet or from the lectures.`"
   ]
  },
  {
   "cell_type": "markdown",
   "metadata": {},
   "source": [
    "# References\n",
    "`On 4.5: what causes ringing:\n",
    "https://imaging.cs.msu.ru/en/research/ringing (11.4.2022)\n",
    "On 4.8: no ringing in Gaussian lowpass filter:\n",
    "https://en.wikipedia.org/wiki/Ringing_artifacts#Low-pass_filter (11.4.2022)\n",
    "On 4.8: the effect of Gaussian (and ideal) lowpass(highpass filtering:\n",
    "https://www.tutorialspoint.com/dip/high_pass_vs_low_pass_filters.htm (11.4.2022)`"
   ]
  },
  {
   "cell_type": "markdown",
   "metadata": {
    "collapsed": true
   },
   "source": [
    "# Submission\n",
    "\n",
    "1. Before submitting your work, **check that your notebook (code) runs from scratch** and reproduces all the requested results by clicking on the menu `Kernel -> Restart & Run All`! Also, check that you have answered all the questions written in **bold**.\n",
    "2. Clear all outputs and variables, etc. by click on the menu `Kernel -> Restart & Clear Output`. This may (or will) reduce the file size of your deliverable a lot! \n",
    "3. Rename this Jupyter notebook to **`DIP_PA3_[student number(s)].ipynb`** (e.g. `DIP_PA3_1234567.ipynb` if solo work or `DIP_PA3_1234567-7654321.ipynb` if pair work) and upload it as your submission to Moodle."
   ]
  }
 ],
 "metadata": {
  "kernelspec": {
   "display_name": "Python 3 (ipykernel)",
   "language": "python",
   "name": "python3"
  },
  "language_info": {
   "codemirror_mode": {
    "name": "ipython",
    "version": 3
   },
   "file_extension": ".py",
   "mimetype": "text/x-python",
   "name": "python",
   "nbconvert_exporter": "python",
   "pygments_lexer": "ipython3",
   "version": "3.9.7"
  }
 },
 "nbformat": 4,
 "nbformat_minor": 2
}
